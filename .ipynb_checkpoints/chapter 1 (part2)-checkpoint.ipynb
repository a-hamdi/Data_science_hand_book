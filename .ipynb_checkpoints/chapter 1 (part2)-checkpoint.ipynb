{
 "cells": [
  {
   "cell_type": "code",
   "execution_count": 2,
   "id": "27b3b253",
   "metadata": {},
   "outputs": [],
   "source": [
    "def func1(a, b):\n",
    " \treturn a / b\n",
    "def func2(x):\n",
    "    \n",
    "    a = x\n",
    "    b = x - 1\n",
    "    return func1(a, b)\n"
   ]
  },
  {
   "cell_type": "code",
   "execution_count": 3,
   "id": "50547157",
   "metadata": {},
   "outputs": [
    {
     "ename": "ZeroDivisionError",
     "evalue": "division by zero",
     "output_type": "error",
     "traceback": [
      "\u001b[1;31m---------------------------------------------------------------------------\u001b[0m",
      "\u001b[1;31mZeroDivisionError\u001b[0m                         Traceback (most recent call last)",
      "Cell \u001b[1;32mIn [3], line 1\u001b[0m\n\u001b[1;32m----> 1\u001b[0m \u001b[43mfunc2\u001b[49m\u001b[43m(\u001b[49m\u001b[38;5;241;43m1\u001b[39;49m\u001b[43m)\u001b[49m\n",
      "Cell \u001b[1;32mIn [2], line 7\u001b[0m, in \u001b[0;36mfunc2\u001b[1;34m(x)\u001b[0m\n\u001b[0;32m      5\u001b[0m a \u001b[38;5;241m=\u001b[39m x\n\u001b[0;32m      6\u001b[0m b \u001b[38;5;241m=\u001b[39m x \u001b[38;5;241m-\u001b[39m \u001b[38;5;241m1\u001b[39m\n\u001b[1;32m----> 7\u001b[0m \u001b[38;5;28;01mreturn\u001b[39;00m \u001b[43mfunc1\u001b[49m\u001b[43m(\u001b[49m\u001b[43ma\u001b[49m\u001b[43m,\u001b[49m\u001b[43m \u001b[49m\u001b[43mb\u001b[49m\u001b[43m)\u001b[49m\n",
      "Cell \u001b[1;32mIn [2], line 2\u001b[0m, in \u001b[0;36mfunc1\u001b[1;34m(a, b)\u001b[0m\n\u001b[0;32m      1\u001b[0m \u001b[38;5;28;01mdef\u001b[39;00m \u001b[38;5;21mfunc1\u001b[39m(a, b):\n\u001b[1;32m----> 2\u001b[0m  \t\u001b[38;5;28;01mreturn\u001b[39;00m \u001b[43ma\u001b[49m\u001b[43m \u001b[49m\u001b[38;5;241;43m/\u001b[39;49m\u001b[43m \u001b[49m\u001b[43mb\u001b[49m\n",
      "\u001b[1;31mZeroDivisionError\u001b[0m: division by zero"
     ]
    }
   ],
   "source": [
    "func2(1)"
   ]
  },
  {
   "cell_type": "code",
   "execution_count": 4,
   "id": "00bf0717",
   "metadata": {},
   "outputs": [
    {
     "name": "stdout",
     "output_type": "stream",
     "text": [
      "Exception reporting mode: Plain\n"
     ]
    }
   ],
   "source": [
    "%xmode Plain"
   ]
  },
  {
   "cell_type": "code",
   "execution_count": 5,
   "id": "19a36468",
   "metadata": {},
   "outputs": [
    {
     "ename": "ZeroDivisionError",
     "evalue": "division by zero",
     "output_type": "error",
     "traceback": [
      "Traceback \u001b[1;36m(most recent call last)\u001b[0m:\n",
      "\u001b[0m  Cell \u001b[0;32mIn [5], line 1\u001b[0m\n    func2(1)\u001b[0m\n",
      "\u001b[0m  Cell \u001b[0;32mIn [2], line 7\u001b[0m in \u001b[0;35mfunc2\u001b[0m\n    return func1(a, b)\u001b[0m\n",
      "\u001b[1;36m  Cell \u001b[1;32mIn [2], line 2\u001b[1;36m in \u001b[1;35mfunc1\u001b[1;36m\n\u001b[1;33m    return a / b\u001b[1;36m\n",
      "\u001b[1;31mZeroDivisionError\u001b[0m\u001b[1;31m:\u001b[0m division by zero\n"
     ]
    }
   ],
   "source": [
    "func2(1)"
   ]
  },
  {
   "cell_type": "code",
   "execution_count": 6,
   "id": "6168996d",
   "metadata": {},
   "outputs": [
    {
     "name": "stdout",
     "output_type": "stream",
     "text": [
      "Exception reporting mode: Verbose\n"
     ]
    }
   ],
   "source": [
    "%xmode Verbose"
   ]
  },
  {
   "cell_type": "code",
   "execution_count": 7,
   "id": "30989f8e",
   "metadata": {},
   "outputs": [
    {
     "ename": "ZeroDivisionError",
     "evalue": "division by zero",
     "output_type": "error",
     "traceback": [
      "\u001b[1;31m---------------------------------------------------------------------------\u001b[0m",
      "\u001b[1;31mZeroDivisionError\u001b[0m                         Traceback (most recent call last)",
      "Cell \u001b[1;32mIn [7], line 1\u001b[0m\n\u001b[1;32m----> 1\u001b[0m \u001b[43mfunc2\u001b[49m\u001b[43m(\u001b[49m\u001b[38;5;241;43m1\u001b[39;49m\u001b[43m)\u001b[49m\n",
      "Cell \u001b[1;32mIn [2], line 7\u001b[0m, in \u001b[0;36mfunc2\u001b[1;34m(x=1)\u001b[0m\n\u001b[0;32m      5\u001b[0m a \u001b[38;5;241m=\u001b[39m x\n\u001b[0;32m      6\u001b[0m b \u001b[38;5;241m=\u001b[39m x \u001b[38;5;241m-\u001b[39m \u001b[38;5;241m1\u001b[39m\n\u001b[1;32m----> 7\u001b[0m \u001b[38;5;28;01mreturn\u001b[39;00m \u001b[43mfunc1\u001b[49m\u001b[43m(\u001b[49m\u001b[43ma\u001b[49m\u001b[43m,\u001b[49m\u001b[43m \u001b[49m\u001b[43mb\u001b[49m\u001b[43m)\u001b[49m\n        a \u001b[1;34m= 1\u001b[0m\u001b[1;34m\n        \u001b[0mb \u001b[1;34m= 0\u001b[0m\n",
      "Cell \u001b[1;32mIn [2], line 2\u001b[0m, in \u001b[0;36mfunc1\u001b[1;34m(a=1, b=0)\u001b[0m\n\u001b[0;32m      1\u001b[0m \u001b[38;5;28;01mdef\u001b[39;00m \u001b[38;5;21mfunc1\u001b[39m(a, b):\n\u001b[1;32m----> 2\u001b[0m  \t\u001b[38;5;28;01mreturn\u001b[39;00m \u001b[43ma\u001b[49m\u001b[43m \u001b[49m\u001b[38;5;241;43m/\u001b[39;49m\u001b[43m \u001b[49m\u001b[43mb\u001b[49m\n        a \u001b[1;34m= 1\u001b[0m\u001b[1;34m\n        \u001b[0mb \u001b[1;34m= 0\u001b[0m\n",
      "\u001b[1;31mZeroDivisionError\u001b[0m: division by zero"
     ]
    }
   ],
   "source": [
    "func2(1)"
   ]
  },
  {
   "cell_type": "code",
   "execution_count": 8,
   "id": "39e04e95",
   "metadata": {},
   "outputs": [
    {
     "name": "stdout",
     "output_type": "stream",
     "text": [
      "> \u001b[1;32mc:\\users\\hamdi\\appdata\\local\\temp\\ipykernel_24784\\517444735.py\u001b[0m(2)\u001b[0;36mfunc1\u001b[1;34m()\u001b[0m\n",
      "\n",
      "ipdb> print(a)\n",
      "1\n",
      "ipdb> print(b)\n",
      "0\n",
      "ipdb> quit\n"
     ]
    }
   ],
   "source": [
    " %debug"
   ]
  },
  {
   "cell_type": "code",
   "execution_count": 9,
   "id": "343fcf5e",
   "metadata": {},
   "outputs": [
    {
     "name": "stdout",
     "output_type": "stream",
     "text": [
      "> \u001b[1;32mc:\\users\\hamdi\\appdata\\local\\temp\\ipykernel_24784\\517444735.py\u001b[0m(2)\u001b[0;36mfunc1\u001b[1;34m()\u001b[0m\n",
      "\n",
      "ipdb> up\n",
      "> \u001b[1;32mc:\\users\\hamdi\\appdata\\local\\temp\\ipykernel_24784\\517444735.py\u001b[0m(7)\u001b[0;36mfunc2\u001b[1;34m()\u001b[0m\n",
      "\n",
      "ipdb> print(x)\n",
      "1\n",
      "ipdb> up\n",
      "> \u001b[1;32mc:\\users\\hamdi\\appdata\\local\\temp\\ipykernel_24784\\2483606204.py\u001b[0m(1)\u001b[0;36m<module>\u001b[1;34m()\u001b[0m\n",
      "\n",
      "ipdb> down\n",
      "> \u001b[1;32mc:\\users\\hamdi\\appdata\\local\\temp\\ipykernel_24784\\517444735.py\u001b[0m(7)\u001b[0;36mfunc2\u001b[1;34m()\u001b[0m\n",
      "\n",
      "ipdb> quit\n"
     ]
    }
   ],
   "source": [
    "%debug"
   ]
  },
  {
   "cell_type": "code",
   "execution_count": 10,
   "id": "7c32d983",
   "metadata": {},
   "outputs": [
    {
     "name": "stdout",
     "output_type": "stream",
     "text": [
      "Exception reporting mode: Plain\n",
      "Automatic pdb calling has been turned ON\n"
     ]
    },
    {
     "ename": "ZeroDivisionError",
     "evalue": "division by zero",
     "output_type": "error",
     "traceback": [
      "Traceback \u001b[1;36m(most recent call last)\u001b[0m:\n",
      "\u001b[0m  Cell \u001b[0;32mIn [10], line 3\u001b[0m\n    func2(1)\u001b[0m\n",
      "\u001b[0m  Cell \u001b[0;32mIn [2], line 7\u001b[0m in \u001b[0;35mfunc2\u001b[0m\n    return func1(a, b)\u001b[0m\n",
      "\u001b[1;36m  Cell \u001b[1;32mIn [2], line 2\u001b[1;36m in \u001b[1;35mfunc1\u001b[1;36m\n\u001b[1;33m    return a / b\u001b[1;36m\n",
      "\u001b[1;31mZeroDivisionError\u001b[0m\u001b[1;31m:\u001b[0m division by zero\n"
     ]
    },
    {
     "name": "stdout",
     "output_type": "stream",
     "text": [
      "> \u001b[1;32mc:\\users\\hamdi\\appdata\\local\\temp\\ipykernel_24784\\517444735.py\u001b[0m(2)\u001b[0;36mfunc1\u001b[1;34m()\u001b[0m\n",
      "\n",
      "ipdb> b\n",
      "ipdb> print(b)\n",
      "0\n",
      "ipdb> quit\n"
     ]
    }
   ],
   "source": [
    "%xmode Plain\n",
    "%pdb on\n",
    "func2(1)\n"
   ]
  },
  {
   "cell_type": "code",
   "execution_count": 11,
   "id": "ae8ecc1d",
   "metadata": {},
   "outputs": [
    {
     "data": {
      "text/plain": [
       "'list Show the current location in the \\x80le\\nh(elp) Show a list of commands, or \\x80nd help on a speci\\x80c command\\nq(uit) Quit the debugger and the program\\nc(ontinue) Quit the debugger; continue in the program\\nn(ext) Go to the next step of the program\\n<enter> Repeat the previous command\\np(rint) Print variables\\ns(tep) Step into a subroutine\\nr(eturn) Return out of a subroutine'"
      ]
     },
     "execution_count": 11,
     "metadata": {},
     "output_type": "execute_result"
    }
   ],
   "source": [
    "'''list Show the current location in the le\n",
    "h(elp) Show a list of commands, or nd help on a specic command\n",
    "q(uit) Quit the debugger and the program\n",
    "c(ontinue) Quit the debugger; continue in the program\n",
    "n(ext) Go to the next step of the program\n",
    "<enter> Repeat the previous command\n",
    "p(rint) Print variables\n",
    "s(tep) Step into a subroutine\n",
    "r(eturn) Return out of a subroutine'''"
   ]
  },
  {
   "cell_type": "markdown",
   "id": "c5179f1b",
   "metadata": {},
   "source": [
    "# Profiling and Timing Code :"
   ]
  },
  {
   "cell_type": "code",
   "execution_count": 12,
   "id": "bda9b2b5",
   "metadata": {},
   "outputs": [
    {
     "data": {
      "text/plain": [
       "'IPython magic commands:\\n%time\\nTime the execution of a single statement\\n%timeit\\nTime repeated execution of a single statement for more accuracy\\n%prun\\nRun code with the profiler\\n%lprun\\nRun code with the line-by-line profiler\\n%memit\\nMeasure the memory use of a single statement\\n%mprun\\nRun code with the line-by-line memory profiler\\n'"
      ]
     },
     "execution_count": 12,
     "metadata": {},
     "output_type": "execute_result"
    }
   ],
   "source": [
    "'''IPython magic commands:\n",
    "%time\n",
    "Time the execution of a single statement\n",
    "%timeit\n",
    "Time repeated execution of a single statement for more accuracy\n",
    "%prun\n",
    "Run code with the profiler\n",
    "%lprun\n",
    "Run code with the line-by-line profiler\n",
    "%memit\n",
    "Measure the memory use of a single statement\n",
    "%mprun\n",
    "Run code with the line-by-line memory profiler\n",
    "'''"
   ]
  },
  {
   "cell_type": "code",
   "execution_count": 13,
   "id": "68f8cb78",
   "metadata": {},
   "outputs": [
    {
     "name": "stdout",
     "output_type": "stream",
     "text": [
      "933 ns ± 72.6 ns per loop (mean ± std. dev. of 7 runs, 1,000,000 loops each)\n"
     ]
    }
   ],
   "source": [
    "%timeit sum(range(100))\n"
   ]
  },
  {
   "cell_type": "code",
   "execution_count": 14,
   "id": "844cdb15",
   "metadata": {},
   "outputs": [
    {
     "name": "stdout",
     "output_type": "stream",
     "text": [
      "255 ms ± 25.5 ms per loop (mean ± std. dev. of 7 runs, 1 loop each)\n"
     ]
    }
   ],
   "source": [
    "%%timeit\n",
    "total = 0\n",
    "for i in range(1000):\n",
    "    \n",
    "    for j in range(1000):\n",
    "        total += i * (-1) ** j\n"
   ]
  },
  {
   "cell_type": "code",
   "execution_count": null,
   "id": "09886637",
   "metadata": {
    "scrolled": true
   },
   "outputs": [
    {
     "name": "stdout",
     "output_type": "stream",
     "text": [
      "sorting an unsorted list:\n",
      "CPU times: total: 48.1 s\n",
      "Wall time: 48.4 s\n"
     ]
    }
   ],
   "source": [
    "import random\n",
    "L = [random.random() for i in range(1000000)]\n",
    "print(\"sorting an unsorted list:\")\n",
    "%time L.sort()\n"
   ]
  },
  {
   "cell_type": "code",
   "execution_count": 16,
   "id": "10f9715d",
   "metadata": {},
   "outputs": [
    {
     "name": "stdout",
     "output_type": "stream",
     "text": [
      "sorting an already sorted list:\n",
      "CPU times: total: 0 ns\n",
      "Wall time: 3 ms\n"
     ]
    }
   ],
   "source": [
    "print(\"sorting an already sorted list:\")\n",
    "%time L.sort()\n"
   ]
  },
  {
   "cell_type": "code",
   "execution_count": 17,
   "id": "5e94e252",
   "metadata": {},
   "outputs": [
    {
     "name": "stdout",
     "output_type": "stream",
     "text": [
      "CPU times: total: 312 ms\n",
      "Wall time: 411 ms\n"
     ]
    }
   ],
   "source": [
    "%%time\n",
    "total = 0\n",
    "for i in range(1000):\n",
    "    for j in range(1000):\n",
    "        \n",
    "        total += i * (-1) ** j\n"
   ]
  },
  {
   "cell_type": "code",
   "execution_count": 19,
   "id": "80b75e07",
   "metadata": {},
   "outputs": [],
   "source": [
    "# Profiling Full Scripts: %prun:\n",
    "def sum_of_lists(N):\n",
    "    total = 0\n",
    "    for i in range(5):\n",
    "        L = [j ^ (j >> i) for j in range(N)]\n",
    "        total += sum(L)\n",
    "    return total\n"
   ]
  },
  {
   "cell_type": "code",
   "execution_count": 20,
   "id": "23b69471",
   "metadata": {},
   "outputs": [
    {
     "name": "stdout",
     "output_type": "stream",
     "text": [
      " "
     ]
    }
   ],
   "source": [
    " %prun sum_of_lists(1000000)"
   ]
  },
  {
   "cell_type": "code",
   "execution_count": 21,
   "id": "85c2f8f6",
   "metadata": {},
   "outputs": [],
   "source": [
    "%prun?"
   ]
  },
  {
   "cell_type": "code",
   "execution_count": 24,
   "id": "26f54836",
   "metadata": {},
   "outputs": [
    {
     "name": "stdout",
     "output_type": "stream",
     "text": [
      "Collecting line_profiler\n",
      "  Downloading line_profiler-4.0.3-cp39-cp39-win_amd64.whl (83 kB)\n",
      "     -------------------------------------- 83.6/83.6 kB 940.1 kB/s eta 0:00:00\n",
      "Installing collected packages: line_profiler\n",
      "Successfully installed line_profiler-4.0.3\n"
     ]
    }
   ],
   "source": [
    "!pip install line_profiler\n",
    "%load_ext line_profiler\n",
    "\n"
   ]
  },
  {
   "cell_type": "code",
   "execution_count": 25,
   "id": "8911abd2",
   "metadata": {},
   "outputs": [],
   "source": [
    "%lprun -f sum_of_lists sum_of_lists(5000)"
   ]
  },
  {
   "cell_type": "code",
   "execution_count": 30,
   "id": "decc81fa",
   "metadata": {},
   "outputs": [],
   "source": [
    "#!pip install memory_profiler\n",
    "%load_ext memory_profiler"
   ]
  },
  {
   "cell_type": "code",
   "execution_count": 31,
   "id": "f9ad5194",
   "metadata": {},
   "outputs": [
    {
     "name": "stdout",
     "output_type": "stream",
     "text": [
      "peak memory: 4017.05 MiB, increment: 65.08 MiB\n"
     ]
    }
   ],
   "source": [
    "%memit sum_of_lists(1000000)\n"
   ]
  },
  {
   "cell_type": "code",
   "execution_count": 33,
   "id": "a2214e57",
   "metadata": {},
   "outputs": [
    {
     "name": "stdout",
     "output_type": "stream",
     "text": [
      "Overwriting mprun_demo.py\n"
     ]
    }
   ],
   "source": [
    "%%file mprun_demo.py\n",
    "def sum_of_lists(N):\n",
    "    total = 0\n",
    "    for i in range(5):\n",
    "        L = [j ^ (j >> i) for j in range(N)]\n",
    "        total += sum(L)\n",
    "        del L # remove reference to L\n",
    "    return total"
   ]
  },
  {
   "cell_type": "code",
   "execution_count": 34,
   "id": "4e2c0db3",
   "metadata": {},
   "outputs": [
    {
     "name": "stdout",
     "output_type": "stream",
     "text": [
      "\n"
     ]
    }
   ],
   "source": [
    "from mprun_demo import sum_of_lists\n",
    "%mprun -f sum_of_lists sum_of_lists(1000000)"
   ]
  },
  {
   "cell_type": "code",
   "execution_count": null,
   "id": "f517f907",
   "metadata": {},
   "outputs": [],
   "source": []
  }
 ],
 "metadata": {
  "kernelspec": {
   "display_name": "Python 3 (ipykernel)",
   "language": "python",
   "name": "python3"
  },
  "language_info": {
   "codemirror_mode": {
    "name": "ipython",
    "version": 3
   },
   "file_extension": ".py",
   "mimetype": "text/x-python",
   "name": "python",
   "nbconvert_exporter": "python",
   "pygments_lexer": "ipython3",
   "version": "3.9.7"
  }
 },
 "nbformat": 4,
 "nbformat_minor": 5
}
