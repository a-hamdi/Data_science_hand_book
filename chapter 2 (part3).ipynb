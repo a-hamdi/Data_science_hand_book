{
 "cells": [
  {
   "cell_type": "markdown",
   "id": "3e9ad7bf",
   "metadata": {},
   "source": [
    "# Comparisons, Masks, and Boolean Logic:"
   ]
  },
  {
   "cell_type": "code",
   "execution_count": 1,
   "id": "3da2e3b8",
   "metadata": {},
   "outputs": [
    {
     "name": "stderr",
     "output_type": "stream",
     "text": [
      "fatal: destination path 'PythonDataScienceHandbook' already exists and is not an empty directory.\n"
     ]
    }
   ],
   "source": [
    "!git clone https://github.com/jakevdp/PythonDataScienceHandbook.git"
   ]
  },
  {
   "cell_type": "code",
   "execution_count": 2,
   "id": "1b59bf45",
   "metadata": {},
   "outputs": [],
   "source": [
    "path='C:/Users/hamdi/OneDrive/Documents/Untitled Folder/Data science book/PythonDataScienceHandbook/notebooks/data/Seattle2014.csv'"
   ]
  },
  {
   "cell_type": "code",
   "execution_count": 3,
   "id": "19b6bc30",
   "metadata": {},
   "outputs": [
    {
     "data": {
      "text/plain": [
       "(365,)"
      ]
     },
     "execution_count": 3,
     "metadata": {},
     "output_type": "execute_result"
    }
   ],
   "source": [
    " import numpy as np\n",
    " import pandas as pd\n",
    " # use Pandas to extract rainfall inches as a NumPy array\n",
    " rainfall = pd.read_csv(path)['PRCP'].values\n",
    " inches = rainfall / 254 # 1/10mm -> inches\n",
    " inches.shape"
   ]
  },
  {
   "cell_type": "code",
   "execution_count": 4,
   "id": "8d0bc865",
   "metadata": {},
   "outputs": [],
   "source": [
    " %matplotlib inline\n",
    " import matplotlib.pyplot as plt\n",
    " import seaborn; seaborn.set() # set plot styles"
   ]
  },
  {
   "cell_type": "code",
   "execution_count": 7,
   "id": "995821a5",
   "metadata": {},
   "outputs": [
    {
     "data": {
      "image/png": "[encoded data removed]",
      "text/plain": [
       "<Figure size 640x480 with 1 Axes>"
      ]
     },
     "metadata": {},
     "output_type": "display_data"
    }
   ],
   "source": [
    "    plt.hist(inches, 40);"
   ]
  },
  {
   "cell_type": "code",
   "execution_count": 8,
   "id": "d7068556",
   "metadata": {},
   "outputs": [],
   "source": [
    "#Comparison Operators as ufuncs\n"
   ]
  },
  {
   "cell_type": "code",
   "execution_count": 9,
   "id": "1c944881",
   "metadata": {},
   "outputs": [
    {
     "data": {
      "text/plain": [
       "29"
      ]
     },
     "execution_count": 9,
     "metadata": {},
     "output_type": "execute_result"
    }
   ],
   "source": [
    "np.sum((inches > 0.5) & (inches < 1))\n"
   ]
  },
  {
   "cell_type": "code",
   "execution_count": 10,
   "id": "f2889f41",
   "metadata": {},
   "outputs": [
    {
     "name": "stdout",
     "output_type": "stream",
     "text": [
      "Number days without rain:  215\n",
      "Number days with rain:  150\n",
      "Days with more than 0.5 inches: 37\n",
      "Rainy days with < 0.1 inches : 75\n"
     ]
    }
   ],
   "source": [
    " print(\"Number days without rain: \", np.sum(inches == 0))\n",
    " print(\"Number days with rain: \", np.sum(inches != 0))\n",
    " print(\"Days with more than 0.5 inches:\", np.sum(inches > 0.5))\n",
    " print(\"Rainy days with < 0.1 inches :\", np.sum((inches > 0) &\n",
    " (inches < 0.2)))"
   ]
  },
  {
   "cell_type": "code",
   "execution_count": 11,
   "id": "dfbbf017",
   "metadata": {},
   "outputs": [],
   "source": [
    "# Boolean Arrays as Masks\n"
   ]
  },
  {
   "cell_type": "code",
   "execution_count": 15,
   "id": "781c180a",
   "metadata": {},
   "outputs": [
    {
     "data": {
      "text/plain": [
       "array([[5, 0, 3, 3],\n",
       "       [7, 9, 3, 5],\n",
       "       [2, 4, 7, 6]])"
      ]
     },
     "execution_count": 15,
     "metadata": {},
     "output_type": "execute_result"
    }
   ],
   "source": [
    " rng = np.random.RandomState(0)\n",
    " x = rng.randint(10, size=(3, 4))\n",
    " x\n"
   ]
  },
  {
   "cell_type": "code",
   "execution_count": 16,
   "id": "4b98aef9",
   "metadata": {},
   "outputs": [
    {
     "data": {
      "text/plain": [
       "array([[False,  True,  True,  True],\n",
       "       [False, False,  True, False],\n",
       "       [ True,  True, False, False]])"
      ]
     },
     "execution_count": 16,
     "metadata": {},
     "output_type": "execute_result"
    }
   ],
   "source": [
    " x<5"
   ]
  },
  {
   "cell_type": "code",
   "execution_count": 17,
   "id": "2e186026",
   "metadata": {},
   "outputs": [
    {
     "data": {
      "text/plain": [
       "array([0, 3, 3, 3, 2, 4])"
      ]
     },
     "execution_count": 17,
     "metadata": {},
     "output_type": "execute_result"
    }
   ],
   "source": [
    "x[x < 5]"
   ]
  },
  {
   "cell_type": "code",
   "execution_count": 19,
   "id": "38a01270",
   "metadata": {},
   "outputs": [
    {
     "name": "stdout",
     "output_type": "stream",
     "text": [
      "Median precip on rainy days in 2014 (inches):  0.19488188976377951\n",
      "Median precip on summer days in 2014 (inches):  0.0\n",
      "Maximum precip on summer days in 2014 (inches):  0.8503937007874016\n",
      "Median precip on non-summer rainy days (inches): 0.20078740157480315\n"
     ]
    }
   ],
   "source": [
    "# construct a mask of all rainy days\n",
    "rainy = (inches > 0)\n",
    "# construct a mask of all summer days (June 21st is the 172nd day)\n",
    "summer = (np.arange(365) - 172 < 90) & (np.arange(365) - 172 > 0)\n",
    "print(\"Median precip on rainy days in 2014 (inches): \",\n",
    " np.median(inches[rainy]))\n",
    "print(\"Median precip on summer days in 2014 (inches): \",\n",
    " np.median(inches[summer]))\n",
    "print(\"Maximum precip on summer days in 2014 (inches): \",\n",
    " np.max(inches[summer]))\n",
    "print(\"Median precip on non-summer rainy days (inches):\",\n",
    " np.median(inches[rainy & ~summer]))\n"
   ]
  },
  {
   "cell_type": "code",
   "execution_count": 20,
   "id": "97856956",
   "metadata": {},
   "outputs": [
    {
     "ename": "IndentationError",
     "evalue": "unexpected indent (836522071.py, line 2)",
     "output_type": "error",
     "traceback": [
      "\u001b[1;36m  Cell \u001b[1;32mIn [20], line 2\u001b[1;36m\u001b[0m\n\u001b[1;33m    A = np.array([1, 0, 1, 0, 1, 0], dtype=bool)\u001b[0m\n\u001b[1;37m    ^\u001b[0m\n\u001b[1;31mIndentationError\u001b[0m\u001b[1;31m:\u001b[0m unexpected indent\n"
     ]
    }
   ],
   "source": [
    "#Using the Keywords and/or Versus the Operators &/| check page 77\n",
    " "
   ]
  },
  {
   "cell_type": "code",
   "execution_count": 21,
   "id": "23c5d3a0",
   "metadata": {},
   "outputs": [
    {
     "data": {
      "text/plain": [
       "array([ True,  True,  True, False,  True,  True])"
      ]
     },
     "execution_count": 21,
     "metadata": {},
     "output_type": "execute_result"
    }
   ],
   "source": [
    " A = np.array([1, 0, 1, 0, 1, 0], dtype=bool)\n",
    " B = np.array([1, 1, 1, 0, 1, 1], dtype=bool)\n",
    " A | B\n"
   ]
  },
  {
   "cell_type": "code",
   "execution_count": 22,
   "id": "c14c9428",
   "metadata": {},
   "outputs": [
    {
     "ename": "ValueError",
     "evalue": "The truth value of an array with more than one element is ambiguous. Use a.any() or a.all()",
     "output_type": "error",
     "traceback": [
      "\u001b[1;31m---------------------------------------------------------------------------\u001b[0m",
      "\u001b[1;31mValueError\u001b[0m                                Traceback (most recent call last)",
      "Cell \u001b[1;32mIn [22], line 1\u001b[0m\n\u001b[1;32m----> 1\u001b[0m A \u001b[38;5;129;01mor\u001b[39;00m B\n",
      "\u001b[1;31mValueError\u001b[0m: The truth value of an array with more than one element is ambiguous. Use a.any() or a.all()"
     ]
    }
   ],
   "source": [
    "A or B\n",
    "'''so remember this: and and or perform a single Boolean evaluation on an entire\n",
    "object, while & and | perform multiple Boolean evaluations on the content (the indi‐\n",
    "vidual bits or bytes) of an object. For Boolean NumPy arrays, the latter is nearly\n",
    "always the desired operation.'''"
   ]
  },
  {
   "cell_type": "code",
   "execution_count": 26,
   "id": "fbe897f4",
   "metadata": {},
   "outputs": [
    {
     "name": "stdout",
     "output_type": "stream",
     "text": [
      "[51 92 14 71 60 20 82 86 74 74]\n"
     ]
    }
   ],
   "source": [
    "#Fancy Indexing\n",
    "#Exploring Fancy Indexing\n",
    "import numpy as np\n",
    "rand = np.random.RandomState(42)\n",
    "x = rand.randint(100, size=10)\n",
    "print(x)\n"
   ]
  },
  {
   "cell_type": "code",
   "execution_count": 27,
   "id": "ddae8127",
   "metadata": {},
   "outputs": [
    {
     "data": {
      "text/plain": [
       "[71, 86, 14]"
      ]
     },
     "execution_count": 27,
     "metadata": {},
     "output_type": "execute_result"
    }
   ],
   "source": [
    "[x[3], x[7], x[2]]"
   ]
  },
  {
   "cell_type": "code",
   "execution_count": 28,
   "id": "8cfae9cd",
   "metadata": {},
   "outputs": [
    {
     "data": {
      "text/plain": [
       "array([71, 86, 60])"
      ]
     },
     "execution_count": 28,
     "metadata": {},
     "output_type": "execute_result"
    }
   ],
   "source": [
    "ind = [3, 7, 4]\n",
    "x[ind]"
   ]
  },
  {
   "cell_type": "code",
   "execution_count": 31,
   "id": "1f5f7679",
   "metadata": {},
   "outputs": [
    {
     "data": {
      "text/plain": [
       "'\\nWith fancy indexing, the shape of the result reflects the shape of the index arrays\\nrather than the shape of the array being indexed'"
      ]
     },
     "execution_count": 31,
     "metadata": {},
     "output_type": "execute_result"
    }
   ],
   "source": [
    " ind = np.array([[3, 7],\n",
    " [4, 5]])\n",
    " x[ind]\n",
    " '''\n",
    " With fancy indexing, the shape of the result reflects the shape of the index arrays\n",
    "rather than the shape of the array being indexed'''"
   ]
  },
  {
   "cell_type": "code",
   "execution_count": 32,
   "id": "9e29d6e4",
   "metadata": {},
   "outputs": [
    {
     "data": {
      "text/plain": [
       "array([[ 0,  1,  2,  3],\n",
       "       [ 4,  5,  6,  7],\n",
       "       [ 8,  9, 10, 11]])"
      ]
     },
     "execution_count": 32,
     "metadata": {},
     "output_type": "execute_result"
    }
   ],
   "source": [
    " X = np.arange(12).reshape((3, 4))\n",
    " X"
   ]
  },
  {
   "cell_type": "code",
   "execution_count": 33,
   "id": "e5bd7bd5",
   "metadata": {},
   "outputs": [
    {
     "data": {
      "text/plain": [
       "array([ 2,  5, 11])"
      ]
     },
     "execution_count": 33,
     "metadata": {},
     "output_type": "execute_result"
    }
   ],
   "source": [
    " row = np.array([0, 1, 2])\n",
    " col = np.array([2, 1, 3])\n",
    " X[row, col]"
   ]
  },
  {
   "cell_type": "code",
   "execution_count": 34,
   "id": "897b7bbd",
   "metadata": {},
   "outputs": [
    {
     "data": {
      "text/plain": [
       "array([[ 2,  1,  3],\n",
       "       [ 6,  5,  7],\n",
       "       [10,  9, 11]])"
      ]
     },
     "execution_count": 34,
     "metadata": {},
     "output_type": "execute_result"
    }
   ],
   "source": [
    "X[row[:, np.newaxis], col]\n"
   ]
  },
  {
   "cell_type": "code",
   "execution_count": 35,
   "id": "af5cf2aa",
   "metadata": {},
   "outputs": [
    {
     "data": {
      "text/plain": [
       "array([[0, 0, 0],\n",
       "       [2, 1, 3],\n",
       "       [4, 2, 6]])"
      ]
     },
     "execution_count": 35,
     "metadata": {},
     "output_type": "execute_result"
    }
   ],
   "source": [
    "row[:, np.newaxis] * col\n"
   ]
  },
  {
   "cell_type": "code",
   "execution_count": 36,
   "id": "49a5f3ae",
   "metadata": {},
   "outputs": [],
   "source": [
    "#Combined Indexing\n"
   ]
  },
  {
   "cell_type": "code",
   "execution_count": 37,
   "id": "09038f1c",
   "metadata": {},
   "outputs": [
    {
     "name": "stdout",
     "output_type": "stream",
     "text": [
      "[[ 0  1  2  3]\n",
      " [ 4  5  6  7]\n",
      " [ 8  9 10 11]]\n"
     ]
    }
   ],
   "source": [
    "print(X)"
   ]
  },
  {
   "cell_type": "code",
   "execution_count": 38,
   "id": "c47da6c1",
   "metadata": {},
   "outputs": [
    {
     "data": {
      "text/plain": [
       "array([10,  8,  9])"
      ]
     },
     "execution_count": 38,
     "metadata": {},
     "output_type": "execute_result"
    }
   ],
   "source": [
    "X[2, [2, 0, 1]]\n"
   ]
  },
  {
   "cell_type": "code",
   "execution_count": 39,
   "id": "c0e69602",
   "metadata": {},
   "outputs": [
    {
     "data": {
      "text/plain": [
       "array([[ 6,  4,  5],\n",
       "       [10,  8,  9]])"
      ]
     },
     "execution_count": 39,
     "metadata": {},
     "output_type": "execute_result"
    }
   ],
   "source": [
    " X[1:, [2, 0, 1]]\n"
   ]
  },
  {
   "cell_type": "code",
   "execution_count": 40,
   "id": "e0d31b4b",
   "metadata": {},
   "outputs": [
    {
     "data": {
      "text/plain": [
       "array([[ 0,  2],\n",
       "       [ 4,  6],\n",
       "       [ 8, 10]])"
      ]
     },
     "execution_count": 40,
     "metadata": {},
     "output_type": "execute_result"
    }
   ],
   "source": [
    " mask = np.array([1, 0, 1, 0], dtype=bool)\n",
    " X[row[:, np.newaxis], mask]\n"
   ]
  },
  {
   "cell_type": "code",
   "execution_count": 41,
   "id": "fa8e276d",
   "metadata": {},
   "outputs": [],
   "source": [
    "#Example: Selecting Random Points\n"
   ]
  },
  {
   "cell_type": "code",
   "execution_count": 43,
   "id": "655fad59",
   "metadata": {},
   "outputs": [
    {
     "data": {
      "text/plain": [
       "(100, 2)"
      ]
     },
     "execution_count": 43,
     "metadata": {},
     "output_type": "execute_result"
    }
   ],
   "source": [
    " mean = [0, 0]\n",
    " cov = [[1, 2],\n",
    " [2, 5]]\n",
    " X = rand.multivariate_normal(mean, cov, 100)\n",
    " X.shape"
   ]
  },
  {
   "cell_type": "code",
   "execution_count": 44,
   "id": "af57b873",
   "metadata": {},
   "outputs": [
    {
     "data": {
      "image/png": "[encoded data removed]",
      "text/plain": [
       "<Figure size 640x480 with 1 Axes>"
      ]
     },
     "metadata": {},
     "output_type": "display_data"
    }
   ],
   "source": [
    " %matplotlib inline\n",
    " import matplotlib.pyplot as plt\n",
    " import seaborn; seaborn.set() # for plot styling\n",
    " plt.scatter(X[:, 0], X[:, 1]);\n"
   ]
  },
  {
   "cell_type": "code",
   "execution_count": 45,
   "id": "d31c87fa",
   "metadata": {},
   "outputs": [
    {
     "data": {
      "text/plain": [
       "array([28, 24, 53, 66, 23, 87, 31, 72, 64, 48,  3, 59, 36, 58, 43,  6, 98,\n",
       "       73,  5, 60])"
      ]
     },
     "execution_count": 45,
     "metadata": {},
     "output_type": "execute_result"
    }
   ],
   "source": [
    " indices = np.random.choice(X.shape[0], 20, replace=False)\n",
    " indices"
   ]
  },
  {
   "cell_type": "code",
   "execution_count": 46,
   "id": "4cc4d030",
   "metadata": {},
   "outputs": [
    {
     "data": {
      "text/plain": [
       "(20, 2)"
      ]
     },
     "execution_count": 46,
     "metadata": {},
     "output_type": "execute_result"
    }
   ],
   "source": [
    " selection = X[indices] # fancy indexing here\n",
    " selection.shape"
   ]
  },
  {
   "cell_type": "code",
   "execution_count": 47,
   "id": "96fbb3c7",
   "metadata": {},
   "outputs": [
    {
     "data": {
      "image/png": "[encoded data removed]",
      "text/plain": [
       "<Figure size 640x480 with 1 Axes>"
      ]
     },
     "metadata": {},
     "output_type": "display_data"
    }
   ],
   "source": [
    " plt.scatter(X[:, 0], X[:, 1], alpha=0.3)\n",
    " plt.scatter(selection[:, 0], selection[:, 1],\n",
    " facecolor='none', s=200);\n"
   ]
  },
  {
   "cell_type": "code",
   "execution_count": 48,
   "id": "dbb50e33",
   "metadata": {},
   "outputs": [],
   "source": [
    "# Modifying Values with Fancy Indexing\n"
   ]
  },
  {
   "cell_type": "code",
   "execution_count": 49,
   "id": "c3479838",
   "metadata": {},
   "outputs": [
    {
     "name": "stdout",
     "output_type": "stream",
     "text": [
      "[ 0 99 99  3 99  5  6  7 99  9]\n"
     ]
    }
   ],
   "source": [
    " x = np.arange(10)\n",
    " i = np.array([2, 1, 8, 4])\n",
    " x[i] = 99\n",
    " print(x)\n"
   ]
  },
  {
   "cell_type": "code",
   "execution_count": 51,
   "id": "016880f5",
   "metadata": {},
   "outputs": [
    {
     "data": {
      "text/plain": [
       "'\\nx +=1 <=> x=x+1  \\n\\n'"
      ]
     },
     "execution_count": 51,
     "metadata": {},
     "output_type": "execute_result"
    }
   ],
   "source": [
    " i = [2, 3, 3, 4, 4, 4]\n",
    " x[i] += 1\n",
    " x\n",
    " '''\n",
    " x +=1 <=> x=x+1  \n",
    " \n",
    " '''"
   ]
  },
  {
   "cell_type": "code",
   "execution_count": 52,
   "id": "e646a99e",
   "metadata": {},
   "outputs": [
    {
     "name": "stdout",
     "output_type": "stream",
     "text": [
      "[0. 0. 1. 2. 3. 0. 0. 0. 0. 0.]\n"
     ]
    }
   ],
   "source": [
    " x = np.zeros(10)\n",
    " np.add.at(x, i, 1)\n",
    " print(x)"
   ]
  },
  {
   "cell_type": "code",
   "execution_count": 53,
   "id": "70b8cedf",
   "metadata": {},
   "outputs": [],
   "source": [
    "#binniiing "
   ]
  },
  {
   "cell_type": "code",
   "execution_count": 54,
   "id": "5b16e1b3",
   "metadata": {},
   "outputs": [],
   "source": [
    " np.random.seed(42)\n",
    " x = np.random.randn(100)\n",
    " # compute a histogram by hand\n",
    " bins = np.linspace(-5, 5, 20)\n",
    " counts = np.zeros_like(bins)\n",
    " # find the appropriate bin for each x\n",
    " i = np.searchsorted(bins, x)\n",
    " # add 1 to each of these bins\n",
    " np.add.at(counts, i, 1)\n"
   ]
  },
  {
   "cell_type": "code",
   "execution_count": 60,
   "id": "c7fa4f7b",
   "metadata": {},
   "outputs": [
    {
     "data": {
      "image/png": "[encoded data removed]",
      "text/plain": [
       "<Figure size 640x480 with 1 Axes>"
      ]
     },
     "metadata": {},
     "output_type": "display_data"
    }
   ],
   "source": [
    " # plot the results\n",
    " plt.plot(bins, counts, drawstyle='steps');"
   ]
  },
  {
   "cell_type": "code",
   "execution_count": 61,
   "id": "ed8374e3",
   "metadata": {},
   "outputs": [
    {
     "data": {
      "image/png": "[encoded data removed]",
      "text/plain": [
       "<Figure size 640x480 with 1 Axes>"
      ]
     },
     "metadata": {},
     "output_type": "display_data"
    }
   ],
   "source": [
    "plt.hist(x, bins, histtype='step');\n"
   ]
  },
  {
   "cell_type": "code",
   "execution_count": 63,
   "id": "b471e1d8",
   "metadata": {},
   "outputs": [
    {
     "name": "stdout",
     "output_type": "stream",
     "text": [
      "NumPy routine:\n",
      "23.8 µs ± 2.65 µs per loop (mean ± std. dev. of 7 runs, 10,000 loops each)\n",
      "Custom routine:\n",
      "16 µs ± 824 ns per loop (mean ± std. dev. of 7 runs, 100,000 loops each)\n"
     ]
    }
   ],
   "source": [
    " print(\"NumPy routine:\")\n",
    " %timeit counts, edges = np.histogram(x, bins)\n",
    " print(\"Custom routine:\")\n",
    " %timeit np.add.at(counts, np.searchsorted(bins, x), 1)"
   ]
  },
  {
   "cell_type": "code",
   "execution_count": 65,
   "id": "a4feec94",
   "metadata": {},
   "outputs": [],
   "source": [
    "np.histogram?"
   ]
  },
  {
   "cell_type": "code",
   "execution_count": 66,
   "id": "3d056a8f",
   "metadata": {},
   "outputs": [
    {
     "name": "stdout",
     "output_type": "stream",
     "text": [
      "NumPy routine:\n",
      "61.2 ms ± 3.13 ms per loop (mean ± std. dev. of 7 runs, 10 loops each)\n",
      "Custom routine:\n",
      "119 ms ± 1.56 ms per loop (mean ± std. dev. of 7 runs, 10 loops each)\n"
     ]
    }
   ],
   "source": [
    " x = np.random.randn(1000000)\n",
    " print(\"NumPy routine:\")\n",
    " %timeit counts, edges = np.histogram(x, bins)\n",
    " print(\"Custom routine:\")\n",
    " %timeit np.add.at(counts, np.searchsorted(bins, x), 1)"
   ]
  },
  {
   "cell_type": "code",
   "execution_count": 67,
   "id": "0c9bd2fa",
   "metadata": {},
   "outputs": [],
   "source": [
    "#as you see here: np is better when the data becomes large!"
   ]
  },
  {
   "cell_type": "code",
   "execution_count": 68,
   "id": "e50d2d86",
   "metadata": {},
   "outputs": [],
   "source": [
    "# Sorting Arrays\n"
   ]
  },
  {
   "cell_type": "code",
   "execution_count": 72,
   "id": "4a396070",
   "metadata": {},
   "outputs": [],
   "source": [
    " import numpy as np\n",
    " def selection_sort(x):\n",
    "    \n",
    "    for i in range(len(x)):\n",
    "        \n",
    "        swap = i + np.argmin(x[i:])\n",
    "        (x[i], x[swap]) = (x[swap], x[i])\n",
    "    return x"
   ]
  },
  {
   "cell_type": "code",
   "execution_count": 73,
   "id": "17dce938",
   "metadata": {},
   "outputs": [
    {
     "data": {
      "text/plain": [
       "array([1, 2, 3, 4, 5])"
      ]
     },
     "execution_count": 73,
     "metadata": {},
     "output_type": "execute_result"
    }
   ],
   "source": [
    " x = np.array([2, 1, 4, 3, 5])\n",
    " selection_sort(x)\n"
   ]
  },
  {
   "cell_type": "code",
   "execution_count": 76,
   "id": "fe21fe89",
   "metadata": {},
   "outputs": [
    {
     "data": {
      "text/plain": [
       "array([1, 2, 3, 4, 5])"
      ]
     },
     "execution_count": 76,
     "metadata": {},
     "output_type": "execute_result"
    }
   ],
   "source": [
    " #Fast Sorting in NumPy: np.sort and np.argsort\n",
    " x = np.array([2, 1, 4, 3, 5])\n",
    " np.sort(x)\n"
   ]
  },
  {
   "cell_type": "code",
   "execution_count": 77,
   "id": "c1388973",
   "metadata": {},
   "outputs": [
    {
     "name": "stdout",
     "output_type": "stream",
     "text": [
      "[1 2 3 4 5]\n"
     ]
    }
   ],
   "source": [
    " x.sort()\n",
    " print(x)"
   ]
  },
  {
   "cell_type": "code",
   "execution_count": 78,
   "id": "961a05d7",
   "metadata": {},
   "outputs": [
    {
     "name": "stdout",
     "output_type": "stream",
     "text": [
      "[1 0 3 2 4]\n"
     ]
    }
   ],
   "source": [
    " x = np.array([2, 1, 4, 3, 5])\n",
    " i = np.argsort(x)\n",
    " print(i)\n",
    " "
   ]
  },
  {
   "cell_type": "code",
   "execution_count": 79,
   "id": "32192319",
   "metadata": {},
   "outputs": [
    {
     "data": {
      "text/plain": [
       "array([1, 2, 3, 4, 5])"
      ]
     },
     "execution_count": 79,
     "metadata": {},
     "output_type": "execute_result"
    }
   ],
   "source": [
    "x[i]\n"
   ]
  },
  {
   "cell_type": "code",
   "execution_count": 80,
   "id": "428a97da",
   "metadata": {},
   "outputs": [
    {
     "name": "stdout",
     "output_type": "stream",
     "text": [
      "[[6 3 7 4 6 9]\n",
      " [2 6 7 4 3 7]\n",
      " [7 2 5 4 1 7]\n",
      " [5 1 4 0 9 5]]\n"
     ]
    }
   ],
   "source": [
    " rand = np.random.RandomState(42)\n",
    " X = rand.randint(0, 10, (4, 6))\n",
    " print(X)\n"
   ]
  },
  {
   "cell_type": "code",
   "execution_count": 81,
   "id": "11263016",
   "metadata": {},
   "outputs": [
    {
     "data": {
      "text/plain": [
       "array([[2, 1, 4, 0, 1, 5],\n",
       "       [5, 2, 5, 4, 3, 7],\n",
       "       [6, 3, 7, 4, 6, 7],\n",
       "       [7, 6, 7, 4, 9, 9]])"
      ]
     },
     "execution_count": 81,
     "metadata": {},
     "output_type": "execute_result"
    }
   ],
   "source": [
    " # sort each column of X\n",
    " np.sort(X, axis=0)"
   ]
  },
  {
   "cell_type": "code",
   "execution_count": 82,
   "id": "c70a7671",
   "metadata": {},
   "outputs": [
    {
     "data": {
      "text/plain": [
       "array([[3, 4, 6, 6, 7, 9],\n",
       "       [2, 3, 4, 6, 7, 7],\n",
       "       [1, 2, 4, 5, 7, 7],\n",
       "       [0, 1, 4, 5, 5, 9]])"
      ]
     },
     "execution_count": 82,
     "metadata": {},
     "output_type": "execute_result"
    }
   ],
   "source": [
    " # sort each row of X\n",
    " np.sort(X, axis=1)"
   ]
  },
  {
   "cell_type": "code",
   "execution_count": 84,
   "id": "054ee999",
   "metadata": {},
   "outputs": [
    {
     "data": {
      "text/plain": [
       "array([2, 1, 3, 4, 6, 5, 7])"
      ]
     },
     "execution_count": 84,
     "metadata": {},
     "output_type": "execute_result"
    }
   ],
   "source": [
    " # Partial Sorts: Partitioning\n",
    " x = np.array([7, 2, 3, 1, 6, 5, 4])\n",
    " np.partition(x, 3)"
   ]
  },
  {
   "cell_type": "code",
   "execution_count": 85,
   "id": "863db533",
   "metadata": {},
   "outputs": [
    {
     "data": {
      "text/plain": [
       "array([[3, 4, 6, 7, 6, 9],\n",
       "       [2, 3, 4, 7, 6, 7],\n",
       "       [1, 2, 4, 5, 7, 7],\n",
       "       [0, 1, 4, 5, 9, 5]])"
      ]
     },
     "execution_count": 85,
     "metadata": {},
     "output_type": "execute_result"
    }
   ],
   "source": [
    "np.partition(X, 2, axis=1)"
   ]
  },
  {
   "cell_type": "code",
   "execution_count": 86,
   "id": "4e7d95d8",
   "metadata": {},
   "outputs": [],
   "source": [
    "#Example: k-Nearest Neighbors\n"
   ]
  },
  {
   "cell_type": "code",
   "execution_count": 88,
   "id": "562d3172",
   "metadata": {},
   "outputs": [],
   "source": [
    "X = rand.rand(10, 2)\n"
   ]
  },
  {
   "cell_type": "code",
   "execution_count": 89,
   "id": "60036755",
   "metadata": {},
   "outputs": [
    {
     "data": {
      "image/png": "[encoded data removed]",
      "text/plain": [
       "<Figure size 640x480 with 1 Axes>"
      ]
     },
     "metadata": {},
     "output_type": "display_data"
    }
   ],
   "source": [
    " %matplotlib inline\n",
    " import matplotlib.pyplot as plt\n",
    " import seaborn; seaborn.set() # Plot styling\n",
    " plt.scatter(X[:, 0], X[:, 1], s=100);"
   ]
  },
  {
   "cell_type": "code",
   "execution_count": 90,
   "id": "e67e9226",
   "metadata": {},
   "outputs": [],
   "source": [
    "dist_sq = np.sum((X[:,np.newaxis,:] - X[np.newaxis,:,:]) ** 2, axis=-1)"
   ]
  },
  {
   "cell_type": "code",
   "execution_count": 91,
   "id": "b060c365",
   "metadata": {},
   "outputs": [
    {
     "name": "stdout",
     "output_type": "stream",
     "text": [
      "[[0 3 9 7 1 4 2 5 6 8]\n",
      " [1 4 7 9 3 6 8 5 0 2]\n",
      " [2 1 4 6 3 0 8 9 7 5]\n",
      " [3 9 7 0 1 4 5 8 6 2]\n",
      " [4 1 8 5 6 7 9 3 0 2]\n",
      " [5 8 6 4 1 7 9 3 2 0]\n",
      " [6 8 5 4 1 7 9 3 2 0]\n",
      " [7 9 3 1 4 0 5 8 6 2]\n",
      " [8 5 6 4 1 7 9 3 2 0]\n",
      " [9 7 3 0 1 4 5 8 6 2]]\n"
     ]
    }
   ],
   "source": [
    "nearest = np.argsort(dist_sq, axis=1)\n",
    "print(nearest)"
   ]
  },
  {
   "cell_type": "code",
   "execution_count": 92,
   "id": "90e8bde3",
   "metadata": {},
   "outputs": [],
   "source": [
    " K = 2\n",
    " nearest_partition = np.argpartition(dist_sq, K + 1, axis=1)"
   ]
  },
  {
   "cell_type": "code",
   "execution_count": 93,
   "id": "2d0bbdd2",
   "metadata": {},
   "outputs": [
    {
     "data": {
      "image/png": "[encoded data removed]",
      "text/plain": [
       "<Figure size 640x480 with 1 Axes>"
      ]
     },
     "metadata": {},
     "output_type": "display_data"
    }
   ],
   "source": [
    " plt.scatter(X[:, 0], X[:, 1], s=100)\n",
    " # draw lines from each point to its two nearest neighbors\n",
    " K = 2\n",
    " for i in range(X.shape[0]):\n",
    "    \n",
    "    for j in nearest_partition[i, :K+1]:\n",
    "        \n",
    "       # plot a line from X[i] to X[j]\n",
    "       # use some zip magic to make it happen:\n",
    "       plt.plot(*zip(X[j], X[i]), color='black')\n"
   ]
  },
  {
   "cell_type": "code",
   "execution_count": 4,
   "id": "e855b5bc",
   "metadata": {},
   "outputs": [],
   "source": [
    "# Structured Data: NumPy’s Structured Arrays:\n",
    "import numpy as np"
   ]
  },
  {
   "cell_type": "code",
   "execution_count": 5,
   "id": "4fbc4ff8",
   "metadata": {},
   "outputs": [],
   "source": [
    " name = ['Alice', 'Bob', 'Cathy', 'Doug']\n",
    " age = [25, 45, 37, 19]\n",
    " weight = [55.0, 85.5, 68.0, 61.5]\n"
   ]
  },
  {
   "cell_type": "code",
   "execution_count": 6,
   "id": "2eaf304d",
   "metadata": {},
   "outputs": [],
   "source": [
    "x = np.zeros(4, dtype=int)"
   ]
  },
  {
   "cell_type": "code",
   "execution_count": 8,
   "id": "0c880f9c",
   "metadata": {},
   "outputs": [
    {
     "name": "stdout",
     "output_type": "stream",
     "text": [
      "[('name', '<U10'), ('age', '<i4'), ('weight', '<f8')]\n"
     ]
    }
   ],
   "source": [
    " # Use a compound data type for structured arrays\n",
    " data = np.zeros(4, dtype={'names':('name', 'age', 'weight'),\n",
    " 'formats':('U10', 'i4', 'f8')})\n",
    " print(data.dtype)"
   ]
  },
  {
   "cell_type": "code",
   "execution_count": 9,
   "id": "55e1d835",
   "metadata": {},
   "outputs": [
    {
     "name": "stdout",
     "output_type": "stream",
     "text": [
      "[('Alice', 25, 55. ) ('Bob', 45, 85.5) ('Cathy', 37, 68. )\n",
      " ('Doug', 19, 61.5)]\n"
     ]
    }
   ],
   "source": [
    " data['name'] = name\n",
    " data['age'] = age\n",
    " data['weight'] = weight\n",
    " print(data)\n"
   ]
  },
  {
   "cell_type": "code",
   "execution_count": null,
   "id": "b5dc1335",
   "metadata": {},
   "outputs": [],
   "source": []
  }
 ],
 "metadata": {
  "kernelspec": {
   "display_name": "Python 3 (ipykernel)",
   "language": "python",
   "name": "python3"
  },
  "language_info": {
   "codemirror_mode": {
    "name": "ipython",
    "version": 3
   },
   "file_extension": ".py",
   "mimetype": "text/x-python",
   "name": "python",
   "nbconvert_exporter": "python",
   "pygments_lexer": "ipython3",
   "version": "3.9.7"
  }
 },
 "nbformat": 4,
 "nbformat_minor": 5
}
