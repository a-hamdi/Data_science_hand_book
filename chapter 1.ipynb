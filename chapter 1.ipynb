{
 "cells": [
  {
   "cell_type": "code",
   "execution_count": null,
   "id": "071fe9c2",
   "metadata": {},
   "outputs": [],
   "source": [
    "import pandas as pd\n",
    "help(pd.DataFrame())"
   ]
  },
  {
   "cell_type": "code",
   "execution_count": null,
   "id": "05fc533e",
   "metadata": {},
   "outputs": [],
   "source": [
    "def square(x):\n",
    "    '''quares the input'''\n",
    "    return x*x"
   ]
  },
  {
   "cell_type": "code",
   "execution_count": null,
   "id": "810a5ad1",
   "metadata": {},
   "outputs": [],
   "source": [
    "square?"
   ]
  },
  {
   "cell_type": "code",
   "execution_count": null,
   "id": "2d2131be",
   "metadata": {},
   "outputs": [],
   "source": [
    "square??"
   ]
  },
  {
   "cell_type": "code",
   "execution_count": null,
   "id": "7cb9035d",
   "metadata": {},
   "outputs": [],
   "source": [
    "L=[1,4,5]\n"
   ]
  },
  {
   "cell_type": "code",
   "execution_count": null,
   "id": "e8220a2f",
   "metadata": {},
   "outputs": [],
   "source": [
    "#press tab after L.\n",
    "L.pop"
   ]
  },
  {
   "cell_type": "code",
   "execution_count": null,
   "id": "f4a4075f",
   "metadata": {},
   "outputs": [],
   "source": [
    "#press tab after from pandas import  or even import !\n",
    "from pandas import __package__\n",
    "import matplotlib"
   ]
  },
  {
   "cell_type": "code",
   "execution_count": null,
   "id": "3fbc1e84",
   "metadata": {},
   "outputs": [],
   "source": [
    "#seaching for a word containing warning (if only ends with it *warning should be the case)\n",
    "*Warning*?\n"
   ]
  },
  {
   "cell_type": "code",
   "execution_count": null,
   "id": "a62661ec",
   "metadata": {},
   "outputs": [],
   "source": [
    "str.f*?\n",
    "\n",
    "'''str.find\n",
    "str.format\n",
    "str.format_map'''"
   ]
  },
  {
   "cell_type": "code",
   "execution_count": null,
   "id": "18843384",
   "metadata": {},
   "outputs": [],
   "source": [
    "#when you paste a function and the tabs are messed up you should use magic! \n",
    "#%paste or %cpaste\n",
    "'''%paste\n",
    "def donothing(x):\n",
    "\treturn x\n",
    "\n",
    "## -- End pasted text --'''\n",
    "\n",
    "#ofcrs only in the shell!!\n",
    "'''%run\n",
    "%timeit\n",
    "%%timeit(multiline)\n",
    "\n",
    "'''"
   ]
  },
  {
   "cell_type": "code",
   "execution_count": null,
   "id": "d6a6e2ea",
   "metadata": {},
   "outputs": [],
   "source": [
    "%timeit for i in range(100): pass\n"
   ]
  },
  {
   "cell_type": "code",
   "execution_count": null,
   "id": "ce064ee0",
   "metadata": {},
   "outputs": [],
   "source": [
    "'''%magic, and %lsmagic\n",
    "Like normal Python functions, IPython magic functions have docstrings, and this\n",
    "useful documentation can be accessed in the standard manner. So, for example, to\n",
    "read the documentation of the %timeit magic, simply type this:\n",
    "In [10]: %timeit?\n",
    "Documentation for other functions can be accessed similarly. To access a general\n",
    "description of available magic functions, including some examples, you can type this:\n",
    "In [11]: %magic\n",
    "For a quick and simple list of all available magic functions, type this:\n",
    "In [12]: %lsmagic'''"
   ]
  },
  {
   "cell_type": "code",
   "execution_count": null,
   "id": "226ec541",
   "metadata": {},
   "outputs": [],
   "source": [
    "%In"
   ]
  },
  {
   "cell_type": "code",
   "execution_count": null,
   "id": "5533d3ff",
   "metadata": {},
   "outputs": [],
   "source": [
    "Out"
   ]
  },
  {
   "cell_type": "code",
   "execution_count": 1,
   "id": "7b81a119",
   "metadata": {},
   "outputs": [],
   "source": [
    "#restart and clear outputs"
   ]
  },
  {
   "cell_type": "code",
   "execution_count": 2,
   "id": "aca69b0c",
   "metadata": {},
   "outputs": [],
   "source": [
    "import math"
   ]
  },
  {
   "cell_type": "code",
   "execution_count": 3,
   "id": "16636296",
   "metadata": {},
   "outputs": [
    {
     "data": {
      "text/plain": [
       "0.9092974268256817"
      ]
     },
     "execution_count": 3,
     "metadata": {},
     "output_type": "execute_result"
    }
   ],
   "source": [
    "math.sin(2)"
   ]
  },
  {
   "cell_type": "code",
   "execution_count": 4,
   "id": "38809f17",
   "metadata": {},
   "outputs": [
    {
     "data": {
      "text/plain": [
       "-0.4161468365471424"
      ]
     },
     "execution_count": 4,
     "metadata": {},
     "output_type": "execute_result"
    }
   ],
   "source": [
    "math.cos(2)"
   ]
  },
  {
   "cell_type": "code",
   "execution_count": 5,
   "id": "dd72281a",
   "metadata": {},
   "outputs": [
    {
     "name": "stdout",
     "output_type": "stream",
     "text": [
      "['', '#restart and clear outputs', 'import math', 'math.sin(2)', 'math.cos(2)', 'print(In)']\n"
     ]
    }
   ],
   "source": [
    "print(In)"
   ]
  },
  {
   "cell_type": "code",
   "execution_count": 6,
   "id": "8019cd07",
   "metadata": {},
   "outputs": [
    {
     "data": {
      "text/plain": [
       "{3: 0.9092974268256817, 4: -0.4161468365471424}"
      ]
     },
     "execution_count": 6,
     "metadata": {},
     "output_type": "execute_result"
    }
   ],
   "source": [
    "Out\n"
   ]
  },
  {
   "cell_type": "code",
   "execution_count": 7,
   "id": "d3f52e73",
   "metadata": {},
   "outputs": [
    {
     "name": "stdout",
     "output_type": "stream",
     "text": [
      "#restart and clear outputs\n"
     ]
    }
   ],
   "source": [
    " print(In[1])"
   ]
  },
  {
   "cell_type": "code",
   "execution_count": 10,
   "id": "3c3fe7da",
   "metadata": {},
   "outputs": [
    {
     "name": "stdout",
     "output_type": "stream",
     "text": [
      "0.9092974268256817\n"
     ]
    }
   ],
   "source": [
    "print(Out[3])\n"
   ]
  },
  {
   "cell_type": "markdown",
   "id": "14f1e51e",
   "metadata": {},
   "source": [
    "# Underscore Shortcuts and Previous Outputs\n"
   ]
  },
  {
   "cell_type": "code",
   "execution_count": 11,
   "id": "898c9b62",
   "metadata": {},
   "outputs": [
    {
     "data": {
      "text/plain": [
       "1.0"
      ]
     },
     "execution_count": 11,
     "metadata": {},
     "output_type": "execute_result"
    }
   ],
   "source": [
    "Out[3] ** 2 + Out[4] ** 2"
   ]
  },
  {
   "cell_type": "code",
   "execution_count": 12,
   "id": "46fecd46",
   "metadata": {},
   "outputs": [
    {
     "name": "stdout",
     "output_type": "stream",
     "text": [
      "1.0\n"
     ]
    }
   ],
   "source": [
    "print(_)\n"
   ]
  },
  {
   "cell_type": "code",
   "execution_count": 14,
   "id": "2d1097cd",
   "metadata": {},
   "outputs": [
    {
     "name": "stdout",
     "output_type": "stream",
     "text": [
      "-0.4161468365471424\n",
      "0.9092974268256817\n"
     ]
    }
   ],
   "source": [
    "print(__)\n",
    "print(___)"
   ]
  },
  {
   "cell_type": "code",
   "execution_count": 16,
   "id": "f52907c3",
   "metadata": {},
   "outputs": [
    {
     "data": {
      "text/plain": [
       "0.9092974268256817"
      ]
     },
     "execution_count": 16,
     "metadata": {},
     "output_type": "execute_result"
    }
   ],
   "source": [
    "Out[3]\n",
    "_3"
   ]
  },
  {
   "cell_type": "code",
   "execution_count": 21,
   "id": "fff21d4f",
   "metadata": {},
   "outputs": [],
   "source": [
    "#Suppressing Output\n",
    "k=math.sin(2) + math.cos(2);\n"
   ]
  },
  {
   "cell_type": "code",
   "execution_count": 22,
   "id": "57015f8a",
   "metadata": {},
   "outputs": [
    {
     "data": {
      "text/plain": [
       "False"
      ]
     },
     "execution_count": 22,
     "metadata": {},
     "output_type": "execute_result"
    }
   ],
   "source": [
    "20 in Out"
   ]
  },
  {
   "cell_type": "code",
   "execution_count": 24,
   "id": "1eb02018",
   "metadata": {},
   "outputs": [
    {
     "name": "stdout",
     "output_type": "stream",
     "text": [
      "4\n"
     ]
    }
   ],
   "source": [
    "print(4);"
   ]
  },
  {
   "cell_type": "code",
   "execution_count": 27,
   "id": "78486ff7",
   "metadata": {},
   "outputs": [
    {
     "name": "stdout",
     "output_type": "stream",
     "text": [
      "   1: #restart and clear outputs\n",
      "   2: import math\n",
      "   3: math.sin(2)\n",
      "   4: math.cos(2)\n"
     ]
    }
   ],
   "source": [
    "#Related Magic Commands\n",
    "%history -n 1-4"
   ]
  },
  {
   "cell_type": "code",
   "execution_count": null,
   "id": "d2c73907",
   "metadata": {},
   "outputs": [],
   "source": []
  }
 ],
 "metadata": {
  "kernelspec": {
   "display_name": "Python 3 (ipykernel)",
   "language": "python",
   "name": "python3"
  },
  "language_info": {
   "codemirror_mode": {
    "name": "ipython",
    "version": 3
   },
   "file_extension": ".py",
   "mimetype": "text/x-python",
   "name": "python",
   "nbconvert_exporter": "python",
   "pygments_lexer": "ipython3",
   "version": "3.9.7"
  }
 },
 "nbformat": 4,
 "nbformat_minor": 5
}
